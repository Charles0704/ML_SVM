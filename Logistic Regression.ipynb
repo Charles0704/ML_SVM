{
 "cells": [
  {
   "cell_type": "code",
   "execution_count": 1,
   "id": "781085fc",
   "metadata": {},
   "outputs": [],
   "source": [
    "import numpy as np\n",
    "import pandas as pd\n",
    "import matplotlib.pyplot as plt"
   ]
  },
  {
   "cell_type": "markdown",
   "id": "030a02b7",
   "metadata": {},
   "source": [
    "# Part1"
   ]
  },
  {
   "cell_type": "code",
   "execution_count": 2,
   "id": "6b190cd1",
   "metadata": {},
   "outputs": [
    {
     "data": {
      "text/html": [
       "<div>\n",
       "<style scoped>\n",
       "    .dataframe tbody tr th:only-of-type {\n",
       "        vertical-align: middle;\n",
       "    }\n",
       "\n",
       "    .dataframe tbody tr th {\n",
       "        vertical-align: top;\n",
       "    }\n",
       "\n",
       "    .dataframe thead th {\n",
       "        text-align: right;\n",
       "    }\n",
       "</style>\n",
       "<table border=\"1\" class=\"dataframe\">\n",
       "  <thead>\n",
       "    <tr style=\"text-align: right;\">\n",
       "      <th></th>\n",
       "      <th>Exam_1</th>\n",
       "      <th>Exam_2</th>\n",
       "      <th>Accepted</th>\n",
       "    </tr>\n",
       "  </thead>\n",
       "  <tbody>\n",
       "    <tr>\n",
       "      <th>0</th>\n",
       "      <td>34.623660</td>\n",
       "      <td>78.024693</td>\n",
       "      <td>0</td>\n",
       "    </tr>\n",
       "    <tr>\n",
       "      <th>1</th>\n",
       "      <td>30.286711</td>\n",
       "      <td>43.894998</td>\n",
       "      <td>0</td>\n",
       "    </tr>\n",
       "    <tr>\n",
       "      <th>2</th>\n",
       "      <td>35.847409</td>\n",
       "      <td>72.902198</td>\n",
       "      <td>0</td>\n",
       "    </tr>\n",
       "    <tr>\n",
       "      <th>3</th>\n",
       "      <td>60.182599</td>\n",
       "      <td>86.308552</td>\n",
       "      <td>1</td>\n",
       "    </tr>\n",
       "    <tr>\n",
       "      <th>4</th>\n",
       "      <td>79.032736</td>\n",
       "      <td>75.344376</td>\n",
       "      <td>1</td>\n",
       "    </tr>\n",
       "  </tbody>\n",
       "</table>\n",
       "</div>"
      ],
      "text/plain": [
       "      Exam_1     Exam_2  Accepted\n",
       "0  34.623660  78.024693         0\n",
       "1  30.286711  43.894998         0\n",
       "2  35.847409  72.902198         0\n",
       "3  60.182599  86.308552         1\n",
       "4  79.032736  75.344376         1"
      ]
     },
     "execution_count": 2,
     "metadata": {},
     "output_type": "execute_result"
    }
   ],
   "source": [
    "data=pd.read_csv(\"ex2data1.txt\",names=[\"Exam_1\",\"Exam_2\",\"Accepted\"])\n",
    "data.head()"
   ]
  },
  {
   "cell_type": "code",
   "execution_count": 12,
   "id": "db1d6d23",
   "metadata": {},
   "outputs": [
    {
     "data": {
      "text/plain": [
       "Text(0, 0.5, 'Exam2')"
      ]
     },
     "execution_count": 12,
     "metadata": {},
     "output_type": "execute_result"
    },
    {
     "data": {
      "image/png": "[encoded data removed]",
      "text/plain": [
       "<Figure size 720x576 with 1 Axes>"
      ]
     },
     "metadata": {
      "needs_background": "light"
     },
     "output_type": "display_data"
    }
   ],
   "source": [
    "plt.figure(figsize=(10, 8))\n",
    "plt.scatter(list((data[data['Accepted']==0][\"Exam_1\"]).values),list((data[data['Accepted']==0][\"Exam_2\"]).values),color='red',marker='o',label='y=0')\n",
    "plt.scatter(list((data[data['Accepted']==1][\"Exam_1\"]).values),list((data[data['Accepted']==1][\"Exam_2\"]).values),color='blue',marker='o',label='y=1')\n",
    "plt.xlim(20, 110)\n",
    "plt.ylim(20, 110)\n",
    "plt.legend(loc=\"upper right\")\n",
    "plt.xlabel(\"Exam1\")\n",
    "plt.ylabel(\"Exam2\")"
   ]
  },
  {
   "cell_type": "code",
   "execution_count": 4,
   "id": "f8606d56",
   "metadata": {},
   "outputs": [],
   "source": [
    "def Get(data):\n",
    "    data.insert(0,'ones',1)\n",
    "    X=(data.iloc[:,0:-1]).values\n",
    "    Y=data.iloc[:,-1].values.reshape(len(data.iloc[:,-1]),-1)\n",
    "    return X,Y\n",
    "X,Y=Get(data)"
   ]
  },
  {
   "cell_type": "markdown",
   "id": "5ac8aefa",
   "metadata": {},
   "source": [
    "$$sigmoid(z)=\\frac{1}{1+e^{-z}}\\$$"
   ]
  },
  {
   "cell_type": "code",
   "execution_count": 5,
   "id": "fae28091",
   "metadata": {},
   "outputs": [],
   "source": [
    "def sigmoid(z):\n",
    "    return 1/(1+np.exp(-z))"
   ]
  },
  {
   "cell_type": "markdown",
   "id": "27d3d4c8",
   "metadata": {},
   "source": [
    "$$Loss = -(1/m)*\\sum \\limits _{i=1}^{m} Y*log({\\hat{Y}})+(1-Y)*log(1-{\\hat{Y}}) $$"
   ]
  },
  {
   "cell_type": "code",
   "execution_count": 6,
   "id": "e559f2a0",
   "metadata": {},
   "outputs": [],
   "source": [
    "def cost_function(X,Y,theta):\n",
    "    Y_hat=sigmoid(X@theta)\n",
    "    return -(np.sum(Y*np.log(Y_hat)+(1-Y)*np.log(1-Y_hat)))/len(X)"
   ]
  },
  {
   "cell_type": "code",
   "execution_count": 7,
   "id": "4b8a6a61",
   "metadata": {},
   "outputs": [
    {
     "name": "stdout",
     "output_type": "stream",
     "text": [
      "0.6931471805599453\n"
     ]
    }
   ],
   "source": [
    "theta=np.zeros((3,1))\n",
    "print(cost_function(X,Y,theta))"
   ]
  },
  {
   "cell_type": "markdown",
   "id": "2c3c7be8",
   "metadata": {},
   "source": [
    "$$ \\Theta_{j}=\\Theta_{j}-\\alpha*((1/m)*\\sum \\limits _{i=1}^{m}({\\hat{Y}}-Y))$$"
   ]
  },
  {
   "cell_type": "code",
   "execution_count": 8,
   "id": "6ceae2ee",
   "metadata": {},
   "outputs": [],
   "source": [
    "def GD(X,Y,theta,alpha,iters):\n",
    "    costs=[]\n",
    "    for i in range(iters):\n",
    "        Y_hat=sigmoid(X@theta)\n",
    "        theta=theta-(alpha/len(X))*((X.T)@(Y_hat-Y))\n",
    "        cost=cost_function(X,Y,theta)\n",
    "        costs.append(cost)\n",
    "    return theta"
   ]
  },
  {
   "cell_type": "code",
   "execution_count": 9,
   "id": "b8de3d09",
   "metadata": {},
   "outputs": [
    {
     "data": {
      "text/plain": [
       "array([[-29.86963587],\n",
       "       [  0.23309024],\n",
       "       [  0.2264124 ]])"
      ]
     },
     "execution_count": 9,
     "metadata": {},
     "output_type": "execute_result"
    }
   ],
   "source": [
    "alpha=0.005\n",
    "iters=200000\n",
    "theta_final=GD(X,Y,theta,alpha,iters)\n",
    "theta_final"
   ]
  },
  {
   "cell_type": "code",
   "execution_count": 10,
   "id": "664c809c",
   "metadata": {},
   "outputs": [
    {
     "name": "stdout",
     "output_type": "stream",
     "text": [
      "131.92579478744906 -1.0294941359159562\n"
     ]
    }
   ],
   "source": [
    "intercept= -theta_final[0,0]/theta_final[2,0]\n",
    "slope= -theta_final[1,0]/theta_final[2,0]\n",
    "print(intercept,slope)"
   ]
  },
  {
   "cell_type": "code",
   "execution_count": 11,
   "id": "9ae6e558",
   "metadata": {},
   "outputs": [
    {
     "data": {
      "text/plain": [
       "Text(0, 0.5, 'Exam2')"
      ]
     },
     "execution_count": 11,
     "metadata": {},
     "output_type": "execute_result"
    },
    {
     "data": {
      "image/png": "[encoded data removed]",
      "text/plain": [
       "<Figure size 720x576 with 1 Axes>"
      ]
     },
     "metadata": {
      "needs_background": "light"
     },
     "output_type": "display_data"
    }
   ],
   "source": [
    "x=np.linspace(20,110,100)\n",
    "y=intercept+slope*x\n",
    "plt.figure(figsize=(10, 8))\n",
    "plt.plot(x,y)\n",
    "plt.scatter(list((data[data['Accepted']==0][\"Exam_1\"]).values),list((data[data['Accepted']==0][\"Exam_2\"]).values),color='red',marker='o',label='y=0')\n",
    "plt.scatter(list((data[data['Accepted']==1][\"Exam_1\"]).values),list((data[data['Accepted']==1][\"Exam_2\"]).values),color='blue',marker='o',label='y=1')\n",
    "plt.xlim(20, 110)\n",
    "plt.ylim(20, 110)\n",
    "plt.legend(loc=\"upper right\")\n",
    "plt.xlabel(\"Exam1\")\n",
    "plt.ylabel(\"Exam2\")"
   ]
  },
  {
   "cell_type": "markdown",
   "id": "ce8fd8f4",
   "metadata": {},
   "source": [
    "# Part2"
   ]
  },
  {
   "cell_type": "code",
   "execution_count": 14,
   "id": "ec2f5755",
   "metadata": {},
   "outputs": [
    {
     "data": {
      "text/html": [
       "<div>\n",
       "<style scoped>\n",
       "    .dataframe tbody tr th:only-of-type {\n",
       "        vertical-align: middle;\n",
       "    }\n",
       "\n",
       "    .dataframe tbody tr th {\n",
       "        vertical-align: top;\n",
       "    }\n",
       "\n",
       "    .dataframe thead th {\n",
       "        text-align: right;\n",
       "    }\n",
       "</style>\n",
       "<table border=\"1\" class=\"dataframe\">\n",
       "  <thead>\n",
       "    <tr style=\"text-align: right;\">\n",
       "      <th></th>\n",
       "      <th>Test_1</th>\n",
       "      <th>Test_2</th>\n",
       "      <th>Accepted</th>\n",
       "    </tr>\n",
       "  </thead>\n",
       "  <tbody>\n",
       "    <tr>\n",
       "      <th>0</th>\n",
       "      <td>0.051267</td>\n",
       "      <td>0.699560</td>\n",
       "      <td>1</td>\n",
       "    </tr>\n",
       "    <tr>\n",
       "      <th>1</th>\n",
       "      <td>-0.092742</td>\n",
       "      <td>0.684940</td>\n",
       "      <td>1</td>\n",
       "    </tr>\n",
       "    <tr>\n",
       "      <th>2</th>\n",
       "      <td>-0.213710</td>\n",
       "      <td>0.692250</td>\n",
       "      <td>1</td>\n",
       "    </tr>\n",
       "    <tr>\n",
       "      <th>3</th>\n",
       "      <td>-0.375000</td>\n",
       "      <td>0.502190</td>\n",
       "      <td>1</td>\n",
       "    </tr>\n",
       "    <tr>\n",
       "      <th>4</th>\n",
       "      <td>-0.513250</td>\n",
       "      <td>0.465640</td>\n",
       "      <td>1</td>\n",
       "    </tr>\n",
       "    <tr>\n",
       "      <th>...</th>\n",
       "      <td>...</td>\n",
       "      <td>...</td>\n",
       "      <td>...</td>\n",
       "    </tr>\n",
       "    <tr>\n",
       "      <th>113</th>\n",
       "      <td>-0.720620</td>\n",
       "      <td>0.538740</td>\n",
       "      <td>0</td>\n",
       "    </tr>\n",
       "    <tr>\n",
       "      <th>114</th>\n",
       "      <td>-0.593890</td>\n",
       "      <td>0.494880</td>\n",
       "      <td>0</td>\n",
       "    </tr>\n",
       "    <tr>\n",
       "      <th>115</th>\n",
       "      <td>-0.484450</td>\n",
       "      <td>0.999270</td>\n",
       "      <td>0</td>\n",
       "    </tr>\n",
       "    <tr>\n",
       "      <th>116</th>\n",
       "      <td>-0.006336</td>\n",
       "      <td>0.999270</td>\n",
       "      <td>0</td>\n",
       "    </tr>\n",
       "    <tr>\n",
       "      <th>117</th>\n",
       "      <td>0.632650</td>\n",
       "      <td>-0.030612</td>\n",
       "      <td>0</td>\n",
       "    </tr>\n",
       "  </tbody>\n",
       "</table>\n",
       "<p>118 rows × 3 columns</p>\n",
       "</div>"
      ],
      "text/plain": [
       "       Test_1    Test_2  Accepted\n",
       "0    0.051267  0.699560         1\n",
       "1   -0.092742  0.684940         1\n",
       "2   -0.213710  0.692250         1\n",
       "3   -0.375000  0.502190         1\n",
       "4   -0.513250  0.465640         1\n",
       "..        ...       ...       ...\n",
       "113 -0.720620  0.538740         0\n",
       "114 -0.593890  0.494880         0\n",
       "115 -0.484450  0.999270         0\n",
       "116 -0.006336  0.999270         0\n",
       "117  0.632650 -0.030612         0\n",
       "\n",
       "[118 rows x 3 columns]"
      ]
     },
     "execution_count": 14,
     "metadata": {},
     "output_type": "execute_result"
    }
   ],
   "source": [
    "data2=pd.read_csv(\"ex2data2.txt\",names=[\"Test_1\",\"Test_2\",\"Accepted\"])\n",
    "data2"
   ]
  },
  {
   "cell_type": "code",
   "execution_count": 15,
   "id": "26d426a3",
   "metadata": {},
   "outputs": [
    {
     "data": {
      "text/plain": [
       "Text(0, 0.5, 'Test2')"
      ]
     },
     "execution_count": 15,
     "metadata": {},
     "output_type": "execute_result"
    },
    {
     "data": {
      "image/png": "[encoded data removed]",
      "text/plain": [
       "<Figure size 720x576 with 1 Axes>"
      ]
     },
     "metadata": {
      "needs_background": "light"
     },
     "output_type": "display_data"
    }
   ],
   "source": [
    "plt.figure(figsize=(10, 8))\n",
    "plt.scatter(list((data2[data2['Accepted']==0][\"Test_1\"]).values),list((data2[data2['Accepted']==0][\"Test_2\"]).values),color='red',marker='o',label='y=0')\n",
    "plt.scatter(list((data2[data2['Accepted']==1][\"Test_1\"]).values),list((data2[data2['Accepted']==1][\"Test_2\"]).values),color='blue',marker='o',label='y=1')\n",
    "plt.legend(loc=\"upper right\")\n",
    "plt.xlim(-1, 1.2)\n",
    "plt.ylim(-1, 1.2)\n",
    "plt.xlabel(\"Test1\")\n",
    "plt.ylabel(\"Test2\")"
   ]
  },
  {
   "cell_type": "code",
   "execution_count": 16,
   "id": "dc9c8b84",
   "metadata": {},
   "outputs": [],
   "source": [
    "def mapFeature(x1,x2,power):\n",
    "    data={}\n",
    "    for i in np.arange(power+1):\n",
    "        for j in np.arange(i+1):\n",
    "            data['F{}{}'.format(i-j,j)]=np.power(x1,i-j)*np.power(x2,j)\n",
    "    return pd.DataFrame(data)\n",
    "    "
   ]
  },
  {
   "cell_type": "code",
   "execution_count": 17,
   "id": "491a7afb",
   "metadata": {},
   "outputs": [],
   "source": [
    "x1=data2['Test_1']\n",
    "x2=data2[\"Test_2\"]\n",
    "data3=mapFeature(x1,x2,6)\n",
    "X2=data3.values\n",
    "Y2=data2.iloc[:,-1].values\n",
    "Y2=Y2.reshape(len(Y2),1)"
   ]
  },
  {
   "cell_type": "code",
   "execution_count": 18,
   "id": "c152bb25",
   "metadata": {},
   "outputs": [],
   "source": [
    "def cost_function2(X,Y,theta,lamda):\n",
    "    Y_hat=sigmoid(X@theta)\n",
    "    reg=np.sum(np.power(theta[1:],2))*(lamda/(2*len(X)))\n",
    "    return -(np.sum(Y*np.log(Y_hat)+(1-Y)*np.log(1-Y_hat)))/len(X)+reg"
   ]
  },
  {
   "cell_type": "code",
   "execution_count": 19,
   "id": "6a461bcb",
   "metadata": {},
   "outputs": [
    {
     "name": "stdout",
     "output_type": "stream",
     "text": [
      "0.6931471805599454\n"
     ]
    }
   ],
   "source": [
    "theta=np.zeros((28,1))\n",
    "lamda=1\n",
    "print(cost_function2(X2,Y2,theta,lamda))"
   ]
  },
  {
   "cell_type": "code",
   "execution_count": 20,
   "id": "b5f13616",
   "metadata": {},
   "outputs": [],
   "source": [
    "def GD2(X,Y,theta,alpha,iters,lamda):\n",
    "    costs=[]\n",
    "    for i in range(iters):\n",
    "        reg=theta[1:]*(lamda/len(X))\n",
    "        reg=np.insert(reg,0,values=0,axis=0)\n",
    "        Y_hat=sigmoid(X@theta)\n",
    "        theta=theta-(alpha/len(X))*((X.T)@(Y_hat-Y))-reg\n",
    "        cost=cost_function2(X,Y,theta,lamda)\n",
    "        costs.append(cost)\n",
    "    return theta,costs"
   ]
  },
  {
   "cell_type": "code",
   "execution_count": 21,
   "id": "fd5bb25e",
   "metadata": {},
   "outputs": [],
   "source": [
    "alpha=0.001\n",
    "iters=200000\n",
    "lamda=0.001\n",
    "theta_final,costs=GD2(X2,Y2,theta,alpha,iters,lamda)"
   ]
  },
  {
   "cell_type": "code",
   "execution_count": 22,
   "id": "d8483211",
   "metadata": {},
   "outputs": [
    {
     "data": {
      "text/plain": [
       "<matplotlib.contour.QuadContourSet at 0x22269f7d640>"
      ]
     },
     "execution_count": 22,
     "metadata": {},
     "output_type": "execute_result"
    },
    {
     "data": {
      "image/png": "[encoded data removed]",
      "text/plain": [
       "<Figure size 720x576 with 1 Axes>"
      ]
     },
     "metadata": {
      "needs_background": "light"
     },
     "output_type": "display_data"
    }
   ],
   "source": [
    "x=np.linspace(-1.2,1.2,200)\n",
    "xx,yy=np.meshgrid(x,x)\n",
    "z=mapFeature(xx.ravel(),yy.ravel(),6).values\n",
    "zz=(z@theta_final).reshape(xx.shape)\n",
    "plt.figure(figsize=(10, 8))\n",
    "plt.scatter(list((data2[data2['Accepted']==0][\"Test_1\"]).values),list((data2[data2['Accepted']==0][\"Test_2\"]).values),color='red',marker='o',label='y=0')\n",
    "plt.scatter(list((data2[data2['Accepted']==1][\"Test_1\"]).values),list((data2[data2['Accepted']==1][\"Test_2\"]).values),color='blue',marker='o',label='y=1')\n",
    "plt.legend(loc=\"upper right\")\n",
    "plt.xlim(-1, 1.2)\n",
    "plt.ylim(-1, 1.2)\n",
    "plt.xlabel(\"Test1\")\n",
    "plt.ylabel(\"Test2\")\n",
    "plt.contour(xx,yy,zz,0)"
   ]
  },
  {
   "cell_type": "code",
   "execution_count": null,
   "id": "f263d338",
   "metadata": {},
   "outputs": [],
   "source": []
  }
 ],
 "metadata": {
  "kernelspec": {
   "display_name": "Python 3 (ipykernel)",
   "language": "python",
   "name": "python3"
  },
  "language_info": {
   "codemirror_mode": {
    "name": "ipython",
    "version": 3
   },
   "file_extension": ".py",
   "mimetype": "text/x-python",
   "name": "python",
   "nbconvert_exporter": "python",
   "pygments_lexer": "ipython3",
   "version": "3.9.7"
  }
 },
 "nbformat": 4,
 "nbformat_minor": 5
}
