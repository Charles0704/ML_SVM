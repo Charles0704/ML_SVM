{
 "cells": [
  {
   "cell_type": "code",
   "execution_count": 9,
   "id": "0a8b6295",
   "metadata": {},
   "outputs": [],
   "source": [
    "import matplotlib.pyplot as plt\n",
    "import pandas as pd\n",
    "import numpy as np"
   ]
  },
  {
   "cell_type": "code",
   "execution_count": 24,
   "id": "5e7cc872",
   "metadata": {},
   "outputs": [],
   "source": [
    "data=pd.read_csv(\"KNN_Data.csv\",names=[\"X\",\"Y\",\"Lable\"])[10:91]"
   ]
  },
  {
   "cell_type": "code",
   "execution_count": 25,
   "id": "b957f920",
   "metadata": {},
   "outputs": [],
   "source": [
    "def KNN_Classifer(Pred_data, data, k):\n",
    "    data_set=data.iloc[:,0:-1].values\n",
    "    labels=data.iloc[:,-1].values.reshape(len(data.iloc[:,-1]),-1)\n",
    "    diff = np.tile(Pred_data, (data_set.shape[0], 1))-data_set\n",
    "    distance = (np.sum(diff**2, axis=1))**0.5 \n",
    "    sorted_indices = np.argsort(distance)\n",
    "\n",
    "    map_label = {}     # Create dictionary\n",
    "    for i in range(k):\n",
    "        label = labels[sorted_indices[i]][0]\n",
    "        map_label[label] = map_label.get(label, 0) + 1   \n",
    "\n",
    "    max_num = 0\n",
    "    for key, value in map_label.items():\n",
    "        if value > max_num:\n",
    "            max_num = value\n",
    "            ans = key\n",
    "    return ans"
   ]
  },
  {
   "cell_type": "code",
   "execution_count": 26,
   "id": "e7791bee",
   "metadata": {},
   "outputs": [
    {
     "name": "stdout",
     "output_type": "stream",
     "text": [
      "1\n"
     ]
    }
   ],
   "source": [
    "Pred_data=[5.7,2.8]\n",
    "print(KNN_Classifer(Pred_data,data,int(len(data))))"
   ]
  },
  {
   "cell_type": "code",
   "execution_count": 33,
   "id": "644d4419",
   "metadata": {},
   "outputs": [
    {
     "data": {
      "image/png": "[encoded data removed]",
      "text/plain": [
       "<Figure size 576x576 with 1 Axes>"
      ]
     },
     "metadata": {
      "needs_background": "dark"
     },
     "output_type": "display_data"
    }
   ],
   "source": [
    "plt.figure(figsize=(8, 8))\n",
    "plt.tick_params(colors='white')\n",
    "Ans=KNN_Classifer(Pred_data,data, int(len(data)))\n",
    "plt.scatter(list((data[data['Lable']==0][\"X\"]).values),list((data[data['Lable']==0][\"Y\"]).values),color='red',marker='^',label='y=0')\n",
    "plt.scatter(list((data[data['Lable']==1][\"X\"]).values),list((data[data['Lable']==1][\"Y\"]).values),color='blue',marker='o',label='y=1')\n",
    "plt.xlim(np.min(data[\"X\"])-0.5, np.max(data[\"X\"])+0.5)\n",
    "plt.ylim(np.min(data[\"Y\"])-0.5, np.max(data[\"Y\"])+0.5)\n",
    "if Ans==0:\n",
    "    plt.scatter(Pred_data[0],Pred_data[1],color='black',marker='^',s=100)\n",
    "if Ans==1:\n",
    "    plt.scatter(Pred_data[0],Pred_data[1],color='black',marker='o',s=100)\n",
    "plt.show()"
   ]
  },
  {
   "cell_type": "code",
   "execution_count": null,
   "id": "3197bd82",
   "metadata": {},
   "outputs": [],
   "source": []
  }
 ],
 "metadata": {
  "kernelspec": {
   "display_name": "Python 3 (ipykernel)",
   "language": "python",
   "name": "python3"
  },
  "language_info": {
   "codemirror_mode": {
    "name": "ipython",
    "version": 3
   },
   "file_extension": ".py",
   "mimetype": "text/x-python",
   "name": "python",
   "nbconvert_exporter": "python",
   "pygments_lexer": "ipython3",
   "version": "3.9.7"
  }
 },
 "nbformat": 4,
 "nbformat_minor": 5
}
